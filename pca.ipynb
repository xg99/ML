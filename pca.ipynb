{
 "cells": [
  {
   "cell_type": "markdown",
   "metadata": {},
   "source": [
    "# PCA notes"
   ]
  },
  {
   "cell_type": "markdown",
   "metadata": {},
   "source": [
    "Scenario: think about we have 2 sets of genes data about rabbits.\n",
    "\n",
    "| | sample 1 | sample 2 | sample 3 | sample 4 | sample 5 | sample 6 |\n",
    "|--|--|--|--|--|--|--|\n",
    "|Gene1|10|11|8|3|2|1|\n",
    "|Gene2|6|4|5|3|2.8|1|\n",
    "\n",
    "Questions: we need to figure out which are the data of a group."
   ]
  },
  {
   "cell_type": "markdown",
   "metadata": {},
   "source": [
    "First, let us plot them in a 2D graph, where the mean point is at the origin.\n",
    "\n",
    "Mean of the Gene1 = 5.83  \n",
    "Mean of the Gene2 = 3.63"
   ]
  },
  {
   "cell_type": "code",
   "execution_count": 23,
   "metadata": {},
   "outputs": [
    {
     "data": {
      "image/png": "[encoded data removed]",
      "text/plain": [
       "<Figure size 432x288 with 1 Axes>"
      ]
     },
     "metadata": {
      "needs_background": "light"
     },
     "output_type": "display_data"
    }
   ],
   "source": [
    "import matplotlib.pyplot as plt\n",
    "\n",
    "\n",
    "gene1 = [10, 11, 8, 3, 2, 1]\n",
    "gene2 = [6, 4, 5, 3, 2.8, 1]\n",
    "mean_gene1 = 5.83\n",
    "mean_gene2 = 3.63\n",
    "gene1_shift = [i - mean_gene1 for i in gene1]\n",
    "gene2_shift = [i - mean_gene2 for i in gene2]\n",
    "\n",
    "fig, ax = plt.subplots()\n",
    "ax.scatter(gene1_shift, gene2_shift, )\n",
    "ax.set_aspect('equal')\n",
    "ax.grid(True, which='both')\n",
    "\n",
    "ax.axhline(y=0, color='k')\n",
    "ax.axvline(x=0, color='k')\n",
    "plt.show()"
   ]
  },
  {
   "cell_type": "markdown",
   "metadata": {},
   "source": [
    "Then we can try to fit a line randomly.\n",
    "\n",
    "y = 2x"
   ]
  },
  {
   "cell_type": "code",
   "execution_count": 21,
   "metadata": {},
   "outputs": [
    {
     "data": {
      "image/png": "[encoded data removed]",
      "text/plain": [
       "<Figure size 432x288 with 1 Axes>"
      ]
     },
     "metadata": {
      "needs_background": "light"
     },
     "output_type": "display_data"
    }
   ],
   "source": [
    "import numpy as np\n",
    "random_line = np.arange(-2, 2)\n",
    "y = [i*2 for i in random_line]\n",
    "\n",
    "fig, ax = plt.subplots()\n",
    "ax.scatter(gene1_shift, gene2_shift, )\n",
    "ax.plot(random_line, y, '--' , color = 'r', )\n",
    "ax.set_aspect('equal')\n",
    "ax.grid(True, which='both')\n",
    "\n",
    "ax.axhline(y=0, color='k')\n",
    "ax.axvline(x=0, color='k')\n",
    "plt.show()"
   ]
  },
  {
   "cell_type": "markdown",
   "metadata": {},
   "source": [
    "If we want to calculate the distance between the line and all the points, we will turn to Pythagorean theorem."
   ]
  },
  {
   "cell_type": "code",
   "execution_count": 35,
   "metadata": {},
   "outputs": [
    {
     "data": {
      "image/png": "[encoded data removed]",
      "text/plain": [
       "<Figure size 432x288 with 1 Axes>"
      ]
     },
     "metadata": {
      "needs_background": "light"
     },
     "output_type": "display_data"
    }
   ],
   "source": [
    "# Pythagorean theorem\n",
    "ptb_x = [1, 2.17]\n",
    "ptb_y = [2, 1.37]\n",
    "pta_x = [0, 2.17]\n",
    "pta_y = [0, 1.37]\n",
    "\n",
    "fig, ax = plt.subplots()\n",
    "ax.scatter(gene1_shift, gene2_shift, )\n",
    "ax.plot(random_line, y, '--' , color = 'r', )\n",
    "ax.plot(ptb_x, ptb_y,  '--' , color = 'b', )\n",
    "ax.plot(pta_x, pta_y,  '--' , color = 'b', )\n",
    "ax.set_aspect('equal')\n",
    "ax.grid(True, which='both')\n",
    "\n",
    "ax.text(0.7, 0.7, 'a', horizontalalignment='center',\n",
    "     verticalalignment='center', transform=ax.transAxes)\n",
    "ax.text(0.65, 0.9, 'b', horizontalalignment='center',\n",
    "     verticalalignment='center', transform=ax.transAxes)\n",
    "ax.text(0.5, 0.8, 'c', horizontalalignment='center',\n",
    "     verticalalignment='center', transform=ax.transAxes)\n",
    "\n",
    "ax.axhline(y=0, color='k')\n",
    "ax.axvline(x=0, color='k')\n",
    "plt.show()"
   ]
  },
  {
   "cell_type": "code",
   "execution_count": 22,
   "metadata": {},
   "outputs": [
    {
     "data": {
      "text/plain": [
       "array([-6, -5, -4, -3, -2, -1,  0,  1,  2,  3,  4,  5])"
      ]
     },
     "execution_count": 22,
     "metadata": {},
     "output_type": "execute_result"
    }
   ],
   "source": [
    "import numpy as np\n",
    "x = np.arange(-6,6)\n",
    "x"
   ]
  },
  {
   "cell_type": "code",
   "execution_count": null,
   "metadata": {},
   "outputs": [],
   "source": []
  }
 ],
 "metadata": {
  "kernelspec": {
   "display_name": "Python 3.8.11 ('base')",
   "language": "python",
   "name": "python3"
  },
  "language_info": {
   "codemirror_mode": {
    "name": "ipython",
    "version": 3
   },
   "file_extension": ".py",
   "mimetype": "text/x-python",
   "name": "python",
   "nbconvert_exporter": "python",
   "pygments_lexer": "ipython3",
   "version": "3.8.11"
  },
  "orig_nbformat": 4,
  "vscode": {
   "interpreter": {
    "hash": "a077222d77dfe082b8f1dd562ad70e458ac2ab76993a0b248ab0476e32e9e8dd"
   }
  }
 },
 "nbformat": 4,
 "nbformat_minor": 2
}
